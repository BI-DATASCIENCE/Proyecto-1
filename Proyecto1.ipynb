{
  "cells": [
    {
      "cell_type": "markdown",
      "metadata": {
        "id": "nV9oCgVCXtS-"
      },
      "source": [
        "# Proyecto 1 - Etapa 1\n",
        "Integrantes:\n",
        "*   Jaime Torres - 202014866\n",
        "*   Juan Guillermo Gutierrez - 202122659\n",
        "*   Maria Luisa Rodríguez -202121549\n"
      ]
    },
    {
      "cell_type": "markdown",
      "metadata": {
        "id": "cDFrwK7MSv8i"
      },
      "source": [
        "En esta primera etapa del proyecto, se crearán tres modelos distintos con el objetivo de relacionar de forma automática nuevas\n",
        "opiniones sobre los objetivos de desarrollo sostenible (ODS) 3, 4 y 5.\n",
        "\n",
        "El documento proporcionado para el entrenamiento de dichos modelos contiene dos columnas:\n",
        "- Textos_espanol (string): Contiene las opiniones de los habitantes locales que describen las problemáticas de su entorno en términos de los ODS 3,4 y 5.\n",
        "- sdg (numeric): Indica el ODS del cual se habla en la opinión."
      ]
    },
    {
      "cell_type": "code",
      "execution_count": 219,
      "metadata": {
        "colab": {
          "base_uri": "https://localhost:8080/",
          "height": 587
        },
        "id": "tbRZlHiy25cG",
        "outputId": "a087d712-227d-462e-b9ee-af6ae1aa1b1e"
      },
      "outputs": [
        {
          "name": "stderr",
          "output_type": "stream",
          "text": [
            "[nltk_data] Downloading package punkt to\n",
            "[nltk_data]     C:\\Users\\jaime\\AppData\\Roaming\\nltk_data...\n",
            "[nltk_data]   Package punkt is already up-to-date!\n",
            "[nltk_data] Downloading package stopwords to\n",
            "[nltk_data]     C:\\Users\\jaime\\AppData\\Roaming\\nltk_data...\n",
            "[nltk_data]   Package stopwords is already up-to-date!\n",
            "[nltk_data] Downloading package wordnet to\n",
            "[nltk_data]     C:\\Users\\jaime\\AppData\\Roaming\\nltk_data...\n",
            "[nltk_data]   Package wordnet is already up-to-date!\n",
            "[nltk_data] Downloading package punkt_tab to\n",
            "[nltk_data]     C:\\Users\\jaime\\AppData\\Roaming\\nltk_data...\n",
            "[nltk_data]   Package punkt_tab is already up-to-date!\n",
            "[nltk_data] Downloading package averaged_perceptron_tagger_eng to\n",
            "[nltk_data]     C:\\Users\\jaime\\AppData\\Roaming\\nltk_data...\n",
            "[nltk_data]   Package averaged_perceptron_tagger_eng is already up-to-\n",
            "[nltk_data]       date!\n",
            "C:\\Users\\jaime\\AppData\\Local\\Temp\\ipykernel_8240\\1575289468.py:56: FutureWarning: data_manager option is deprecated and will be removed in a future version. Only the BlockManager will be available.\n",
            "  pd.reset_option('all')\n",
            "C:\\Users\\jaime\\AppData\\Local\\Temp\\ipykernel_8240\\1575289468.py:56: FutureWarning: use_inf_as_na option is deprecated and will be removed in a future version. Convert inf values to NaN before operating instead.\n",
            "  pd.reset_option('all')\n"
          ]
        },
        {
          "data": {
            "text/html": [
              "<div>\n",
              "<style scoped>\n",
              "    .dataframe tbody tr th:only-of-type {\n",
              "        vertical-align: middle;\n",
              "    }\n",
              "\n",
              "    .dataframe tbody tr th {\n",
              "        vertical-align: top;\n",
              "    }\n",
              "\n",
              "    .dataframe thead th {\n",
              "        text-align: right;\n",
              "    }\n",
              "</style>\n",
              "<table border=\"1\" class=\"dataframe\">\n",
              "  <thead>\n",
              "    <tr style=\"text-align: right;\">\n",
              "      <th></th>\n",
              "      <th>Textos_espanol</th>\n",
              "      <th>sdg</th>\n",
              "    </tr>\n",
              "  </thead>\n",
              "  <tbody>\n",
              "    <tr>\n",
              "      <th>0</th>\n",
              "      <td>Por ejemplo, el nÃºmero de consultas externas ...</td>\n",
              "      <td>3</td>\n",
              "    </tr>\n",
              "    <tr>\n",
              "      <th>1</th>\n",
              "      <td>En 2007, el gobierno central financió directam...</td>\n",
              "      <td>3</td>\n",
              "    </tr>\n",
              "    <tr>\n",
              "      <th>2</th>\n",
              "      <td>Claramente, hay muchos otros factores en juego...</td>\n",
              "      <td>3</td>\n",
              "    </tr>\n",
              "    <tr>\n",
              "      <th>3</th>\n",
              "      <td>Por ejemplo, el estado australiano de Victoria...</td>\n",
              "      <td>3</td>\n",
              "    </tr>\n",
              "    <tr>\n",
              "      <th>4</th>\n",
              "      <td>El consumo anual de alcohol se estima en 15,7 ...</td>\n",
              "      <td>3</td>\n",
              "    </tr>\n",
              "    <tr>\n",
              "      <th>...</th>\n",
              "      <td>...</td>\n",
              "      <td>...</td>\n",
              "    </tr>\n",
              "    <tr>\n",
              "      <th>4044</th>\n",
              "      <td>Para ello, identificará las cuestiones de géne...</td>\n",
              "      <td>5</td>\n",
              "    </tr>\n",
              "    <tr>\n",
              "      <th>4045</th>\n",
              "      <td>La participación de las mujeres en roles de li...</td>\n",
              "      <td>5</td>\n",
              "    </tr>\n",
              "    <tr>\n",
              "      <th>4046</th>\n",
              "      <td>Según el WEF, según las tendencias de 2016, po...</td>\n",
              "      <td>5</td>\n",
              "    </tr>\n",
              "    <tr>\n",
              "      <th>4047</th>\n",
              "      <td>Sirve como recurso y foro para las agencias, c...</td>\n",
              "      <td>5</td>\n",
              "    </tr>\n",
              "    <tr>\n",
              "      <th>4048</th>\n",
              "      <td>Las áreas útiles para un mayor estudio y acció...</td>\n",
              "      <td>5</td>\n",
              "    </tr>\n",
              "  </tbody>\n",
              "</table>\n",
              "<p>4049 rows × 2 columns</p>\n",
              "</div>"
            ],
            "text/plain": [
              "                                         Textos_espanol  sdg\n",
              "0     Por ejemplo, el nÃºmero de consultas externas ...    3\n",
              "1     En 2007, el gobierno central financió directam...    3\n",
              "2     Claramente, hay muchos otros factores en juego...    3\n",
              "3     Por ejemplo, el estado australiano de Victoria...    3\n",
              "4     El consumo anual de alcohol se estima en 15,7 ...    3\n",
              "...                                                 ...  ...\n",
              "4044  Para ello, identificará las cuestiones de géne...    5\n",
              "4045  La participación de las mujeres en roles de li...    5\n",
              "4046  Según el WEF, según las tendencias de 2016, po...    5\n",
              "4047  Sirve como recurso y foro para las agencias, c...    5\n",
              "4048  Las áreas útiles para un mayor estudio y acció...    5\n",
              "\n",
              "[4049 rows x 2 columns]"
            ]
          },
          "execution_count": 219,
          "metadata": {},
          "output_type": "execute_result"
        }
      ],
      "source": [
        "# Instalación de librerias\n",
        "from collections import UserList\n",
        "\n",
        "import re\n",
        "import numpy as np\n",
        "import pandas as pd\n",
        "\n",
        "import joblib\n",
        "\n",
        "import matplotlib.pyplot as plt\n",
        "import seaborn as sns\n",
        "\n",
        "from IPython.display import display\n",
        "from sklearn.model_selection import train_test_split\n",
        "from sklearn.linear_model import LinearRegression\n",
        "from sklearn.pipeline import Pipeline\n",
        "from sklearn.compose import ColumnTransformer\n",
        "from sklearn.preprocessing import StandardScaler\n",
        "from sklearn.preprocessing import PolynomialFeatures\n",
        "from sklearn.metrics import mean_absolute_error, mean_squared_error, r2_score\n",
        "from sklearn.neighbors import KNeighborsClassifier\n",
        "from sklearn.feature_extraction.text import CountVectorizer\n",
        "from sklearn.preprocessing import OneHotEncoder\n",
        "from sklearn.naive_bayes import GaussianNB\n",
        "from sklearn.neural_network import MLPClassifier\n",
        "\n",
        "import scipy.stats as stats\n",
        "\n",
        "\n",
        "import pandas as pd\n",
        "import numpy as np\n",
        "import seaborn as sns\n",
        "import matplotlib.pyplot as plt\n",
        "\n",
        "import nltk\n",
        "nltk.download('punkt')\n",
        "nltk.download('stopwords')\n",
        "nltk.download('wordnet')\n",
        "nltk.download('punkt_tab')\n",
        "nltk.download('averaged_perceptron_tagger_eng')\n",
        "\n",
        "from nltk import word_tokenize, sent_tokenize\n",
        "from nltk.corpus import stopwords\n",
        "from nltk.stem import  SnowballStemmer, WordNetLemmatizer\n",
        "from nltk.corpus import wordnet as wn\n",
        "\n",
        "from sklearn.model_selection import train_test_split,GridSearchCV\n",
        "from sklearn.feature_extraction.text import TfidfVectorizer, CountVectorizer, HashingVectorizer\n",
        "from sklearn.pipeline import Pipeline, FeatureUnion\n",
        "from sklearn.svm import SVC\n",
        "from sklearn.ensemble import BaggingClassifier, RandomForestClassifier, AdaBoostClassifier\n",
        "from sklearn.naive_bayes import BernoulliNB\n",
        "from sklearn.metrics import classification_report, confusion_matrix\n",
        "\n",
        "%matplotlib inline\n",
        "pd.reset_option('all')\n",
        "\n",
        "url = 'https://github.com/BI-DATASCIENCE/Proyecto-1/raw/main/data/'\n",
        "raw_data: pd.DataFrame = pd.read_excel(url + 'ODScat_345.xlsx')\n",
        "raw_data\n"
      ]
    },
    {
      "cell_type": "markdown",
      "metadata": {
        "id": "xDliIFNkM9xk"
      },
      "source": [
        "En un primer vistazo, se puede evidenciar que hay 4049 filas y 2 columnas. Es importante recalcar que hay problemas de codificación evidentes por la forma en la que la tilde en \"número\" de la fila 0 se distorsionó al simbolo 'Ãº'."
      ]
    },
    {
      "cell_type": "markdown",
      "metadata": {
        "id": "Z4tFPxyLNahW"
      },
      "source": [
        "## 1) Entendimiento y preparación de los datos\n"
      ]
    },
    {
      "cell_type": "markdown",
      "metadata": {
        "id": "sr5mFO53OTXu"
      },
      "source": [
        "### 1.1) Problemas de codificación\n",
        "\n",
        "En primer lugar, se debe verificar que los caracteres especiales de las opiniones (principalmente las tildes) se representen de manera correcta, por lo cual se cambian las instancias en las que hubo problemas al leerlas:"
      ]
    },
    {
      "cell_type": "code",
      "execution_count": 220,
      "metadata": {
        "colab": {
          "base_uri": "https://localhost:8080/",
          "height": 444
        },
        "id": "mJkGlMKsAWkm",
        "outputId": "24870583-fc1a-48e0-cf21-5dc9d76e26cf"
      },
      "outputs": [
        {
          "data": {
            "text/html": [
              "<div>\n",
              "<style scoped>\n",
              "    .dataframe tbody tr th:only-of-type {\n",
              "        vertical-align: middle;\n",
              "    }\n",
              "\n",
              "    .dataframe tbody tr th {\n",
              "        vertical-align: top;\n",
              "    }\n",
              "\n",
              "    .dataframe thead th {\n",
              "        text-align: right;\n",
              "    }\n",
              "</style>\n",
              "<table border=\"1\" class=\"dataframe\">\n",
              "  <thead>\n",
              "    <tr style=\"text-align: right;\">\n",
              "      <th></th>\n",
              "      <th>Textos_espanol</th>\n",
              "      <th>sdg</th>\n",
              "    </tr>\n",
              "  </thead>\n",
              "  <tbody>\n",
              "    <tr>\n",
              "      <th>0</th>\n",
              "      <td>Por ejemplo, el número de consultas externas d...</td>\n",
              "      <td>3</td>\n",
              "    </tr>\n",
              "    <tr>\n",
              "      <th>1</th>\n",
              "      <td>En 2007, el gobierno central financió directam...</td>\n",
              "      <td>3</td>\n",
              "    </tr>\n",
              "    <tr>\n",
              "      <th>2</th>\n",
              "      <td>Claramente, hay muchos otros factores en juego...</td>\n",
              "      <td>3</td>\n",
              "    </tr>\n",
              "    <tr>\n",
              "      <th>3</th>\n",
              "      <td>Por ejemplo, el estado australiano de Victoria...</td>\n",
              "      <td>3</td>\n",
              "    </tr>\n",
              "    <tr>\n",
              "      <th>4</th>\n",
              "      <td>El consumo anual de alcohol se estima en 15,7 ...</td>\n",
              "      <td>3</td>\n",
              "    </tr>\n",
              "    <tr>\n",
              "      <th>...</th>\n",
              "      <td>...</td>\n",
              "      <td>...</td>\n",
              "    </tr>\n",
              "    <tr>\n",
              "      <th>4044</th>\n",
              "      <td>Para ello, identificará las cuestiones de géne...</td>\n",
              "      <td>5</td>\n",
              "    </tr>\n",
              "    <tr>\n",
              "      <th>4045</th>\n",
              "      <td>La participación de las mujeres en roles de li...</td>\n",
              "      <td>5</td>\n",
              "    </tr>\n",
              "    <tr>\n",
              "      <th>4046</th>\n",
              "      <td>Según el WEF, según las tendencias de 2016, po...</td>\n",
              "      <td>5</td>\n",
              "    </tr>\n",
              "    <tr>\n",
              "      <th>4047</th>\n",
              "      <td>Sirve como recurso y foro para las agencias, c...</td>\n",
              "      <td>5</td>\n",
              "    </tr>\n",
              "    <tr>\n",
              "      <th>4048</th>\n",
              "      <td>Las áreas útiles para un mayor estudio y acció...</td>\n",
              "      <td>5</td>\n",
              "    </tr>\n",
              "  </tbody>\n",
              "</table>\n",
              "<p>4049 rows × 2 columns</p>\n",
              "</div>"
            ],
            "text/plain": [
              "                                         Textos_espanol  sdg\n",
              "0     Por ejemplo, el número de consultas externas d...    3\n",
              "1     En 2007, el gobierno central financió directam...    3\n",
              "2     Claramente, hay muchos otros factores en juego...    3\n",
              "3     Por ejemplo, el estado australiano de Victoria...    3\n",
              "4     El consumo anual de alcohol se estima en 15,7 ...    3\n",
              "...                                                 ...  ...\n",
              "4044  Para ello, identificará las cuestiones de géne...    5\n",
              "4045  La participación de las mujeres en roles de li...    5\n",
              "4046  Según el WEF, según las tendencias de 2016, po...    5\n",
              "4047  Sirve como recurso y foro para las agencias, c...    5\n",
              "4048  Las áreas útiles para un mayor estudio y acció...    5\n",
              "\n",
              "[4049 rows x 2 columns]"
            ]
          },
          "execution_count": 220,
          "metadata": {},
          "output_type": "execute_result"
        }
      ],
      "source": [
        "def corregir_caracteres(texto):\n",
        "    if isinstance(texto, str):  # Asegurarse de que el campo es texto\n",
        "        texto = texto.replace('Ã¡', 'á').replace('Ã©', 'é').replace('Ã­', 'í')\n",
        "        texto = texto.replace('Ã³', 'ó').replace('Ãº', 'ú').replace('Ã±', 'ñ')\n",
        "        texto = texto.replace('Ã', 'í').replace('Â', '')  # Otros casos de codificación\n",
        "        texto = texto.replace('â€œ', '').replace('â€', '').replace('â€˜', '').replace('â€™', '')\n",
        "    return texto\n",
        "\n",
        "# Aplicar la corrección a una columna de texto (puedes aplicar a todas si es necesario)\n",
        "raw_data['Textos_espanol'] = raw_data['Textos_espanol'].apply(corregir_caracteres)\n",
        "raw_data"
      ]
    },
    {
      "cell_type": "code",
      "execution_count": 221,
      "metadata": {
        "id": "Kas3ohScA1d0"
      },
      "outputs": [],
      "source": [
        "#exportar excel\n",
        "#prueba = raw_data\n",
        "#prueba.to_excel(\"output.xlsx\", index = False)"
      ]
    },
    {
      "cell_type": "markdown",
      "metadata": {
        "id": "GSWuxSBhN0k4"
      },
      "source": [
        "A continuación, se verifica que no hayan valores faltantes dentro de las columnas del archivo. No hay ningún valor vacio en las 4049 filas"
      ]
    },
    {
      "cell_type": "code",
      "execution_count": 222,
      "metadata": {
        "colab": {
          "base_uri": "https://localhost:8080/"
        },
        "id": "EFdV8c2jFXi6",
        "outputId": "fe85d1ac-9138-4321-ba45-e4c0bece18e8"
      },
      "outputs": [
        {
          "name": "stdout",
          "output_type": "stream",
          "text": [
            "<class 'pandas.core.frame.DataFrame'>\n",
            "RangeIndex: 4049 entries, 0 to 4048\n",
            "Data columns (total 2 columns):\n",
            " #   Column          Non-Null Count  Dtype \n",
            "---  ------          --------------  ----- \n",
            " 0   Textos_espanol  4049 non-null   object\n",
            " 1   sdg             4049 non-null   int64 \n",
            "dtypes: int64(1), object(1)\n",
            "memory usage: 63.4+ KB\n"
          ]
        }
      ],
      "source": [
        "raw_data.info()"
      ]
    },
    {
      "cell_type": "markdown",
      "metadata": {
        "id": "QZHdMM91G9vz"
      },
      "source": [
        "### 1.2) Limpieza de los Datos\n",
        "\n"
      ]
    },
    {
      "cell_type": "markdown",
      "metadata": {
        "id": "vWwGYZ9gObY7"
      },
      "source": [
        "Antes de poder 'tokenizar' las palabras para identificar las más comunes dentro del set de opiniones de un ODS específico, es necesario que los datos se encuentren libres de ciertos caracteres que no aportan valor al modelo:\n",
        "- Las mayúsculas impiden una comparación correcta de una misma palabra con distinta capitalización, por lo cual se trabaja únicamente con minúsculas.\n",
        "- Las 'stopwords', tambien conocidas como 'palabras vacías' se deben quitar, pues son palabras que por si solas no tienen significado, como, por ejemplo, artículos, pronombres y preposiciones. Se utiliza el set de stopwords en español de nltk para removerlas.\n",
        "- La puntuación no provee detalles sobre la información que se encuentra verdaderamente en las opiniones, por lo cual deben ser removidos"
      ]
    },
    {
      "cell_type": "code",
      "execution_count": 223,
      "metadata": {
        "colab": {
          "base_uri": "https://localhost:8080/"
        },
        "id": "v8eiytOCHAF8",
        "outputId": "3ec5999e-79ef-4e87-ae37-9f0c630c1c9b"
      },
      "outputs": [
        {
          "name": "stdout",
          "output_type": "stream",
          "text": [
            "{'tanto', 'ese', 'estabais', 'éramos', 'que', 'sentid', 'esta', 'se', 'habríais', 'tengáis', 'tus', 'habían', 'tenido', 'desde', 'somos', 'estaréis', 'tuviese', 'de', 'tenidos', 'otros', 'nosotros', 'el', 'estamos', 'tuvierais', 'nos', 'tenían', 'tendré', 'o', 'seríamos', 'han', 'fuerais', 'tened', 'estuvierais', 'algunos', 'nada', 'qué', 'pero', 'habremos', 'nuestra', 'muchos', 'suyo', 'hubieseis', 'tuve', 'fuéramos', 'he', 'hubieron', 'seáis', 'esto', 'fuésemos', 'seréis', 'como', 'estaba', 'otras', 'estés', 'cuando', 'fuesen', 'tuyos', 'esa', 'estuvo', 'tuvieran', 'habréis', 'todo', 'hubiéramos', 'hubiera', 'estadas', 'al', 'mí', 'estás', 'eras', 'vosotras', 'ya', 'tendríais', 'estuvieran', 'tengo', 'para', 'hubieses', 'también', 'mías', 'contra', 'habría', 'en', 'eso', 'estuvieses', 'quienes', 'estábamos', 'antes', 'tengas', 'entre', 'estas', 'estaré', 'hubo', 'sobre', 'sintiendo', 'mis', 'quien', 'sean', 'estando', 'nuestras', 'seamos', 'estuviéramos', 'habré', 'durante', 'habrá', 'estarán', 'uno', 'estuviera', 'tenga', 'tuya', 'tú', 'sentidos', 'habida', 'son', 'tuvo', 'hayáis', 'estad', 'habías', 'seríais', 'tendrá', 'sin', 'tendrán', 'fuimos', 'mío', 'donde', 'tendríamos', 'este', 'tenida', 'habrías', 'estuve', 'habrían', 'tienen', 'ti', 'estarás', 'tuviéramos', 'cual', 'sentidas', 'vuestro', 'estada', 'habíamos', 'tengan', 'hubierais', 'están', 'otra', 'habríamos', 'tendrían', 'tuvimos', 'los', 'tendrás', 'serían', 'estéis', 'hemos', 'ella', 'os', 'nuestros', 'del', 'hubimos', 'fueses', 'tengamos', 'eres', 'estuvieseis', 'estaban', 'eran', 'tenemos', 'estuvieras', 'hubiésemos', 'seré', 'hayas', 'sí', 'poco', 'estén', 'siente', 'vuestros', 'estáis', 'muy', 'nuestro', 'por', 'estoy', 'nosotras', 'erais', 'estarían', 'tu', 'serás', 'serías', 'a', 'e', 'fuiste', 'estados', 'tenéis', 'mía', 'ellos', 'tendremos', 'habido', 'le', 'esté', 'la', 'estarías', 'hube', 'tenía', 'había', 'sería', 'fueron', 'mi', 'ha', 'porque', 'teníais', 'serán', 'estuviste', 'sus', 'vuestra', 'estuvisteis', 'has', 'estaríamos', 'te', 'las', 'fui', 'no', 'estar', 'algo', 'tenías', 'tendrías', 'tuviésemos', 'vosotros', 'les', 'suyos', 'tuvieses', 'más', 'estaría', 'fueseis', 'hubieras', 'estemos', 'hubieran', 'será', 'algunas', 'haya', 'teniendo', 'estaríais', 'fuese', 'tuyo', 'está', 'tenidas', 'tuvieseis', 'tuvieras', 'con', 'ante', 'habrás', 'otro', 'habíais', 'yo', 'es', 'habéis', 'sentida', 'habrán', 'habidas', 'todos', 'estuviésemos', 'fue', 'hayamos', 'hay', 'habidos', 'tienes', 'su', 'sea', 'suya', 'fuisteis', 'ellas', 'hubiese', 'estaremos', 'lo', 'fuera', 'hubiste', 'tuvieron', 'estabas', 'ni', 'fueran', 'era', 'fueras', 'vuestras', 'sois', 'una', 'él', 'un', 'tendréis', 'tuvisteis', 'estará', 'estuvieron', 'hubiesen', 'mucho', 'suyas', 'hasta', 'tuviera', 'hubisteis', 'me', 'hayan', 'seremos', 'esas', 'tuviesen', 'estuviese', 'tuviste', 'teníamos', 'estado', 'esos', 'y', 'habiendo', 'seas', 'estuvimos', 'sentido', 'soy', 'estos', 'estuviesen', 'míos', 'unos', 'tendría', 'tuyas', 'tiene'}\n"
          ]
        }
      ],
      "source": [
        "spanish_sw = set(stopwords.words('spanish'))\n",
        "print(spanish_sw)\n",
        "\n",
        "# poner todo en minuscula\n",
        "def to_lowercase(palabras):\n",
        "  return [palabra.lower() for palabra in palabras]\n",
        "\n",
        "\n",
        "#quitar puntuación\n",
        "def remove_punctuation(palabras):\n",
        "  new_words = []\n",
        "  for word in palabras:\n",
        "    if word is not None:\n",
        "      new_word = re.sub(r'[^\\w\\s]', '', word)\n",
        "      if new_word != '':\n",
        "         new_words.append(new_word)\n",
        "  return new_words\n",
        "\n",
        "\n",
        "\n",
        "#quitar stopwords\n",
        "def remove_stopwords(palabras):\n",
        "  filtered_text=[]\n",
        "  for palabra in palabras:\n",
        "    if palabra not in spanish_sw:\n",
        "        filtered_text.append(palabra)\n",
        "  return filtered_text\n",
        "\n",
        "\n",
        "def preprocessing(palabras):\n",
        "    palabras = to_lowercase(palabras)\n",
        "    palabras = remove_punctuation(palabras)\n",
        "    palabras = remove_stopwords(palabras)\n",
        "    return palabras"
      ]
    },
    {
      "cell_type": "code",
      "execution_count": 224,
      "metadata": {
        "colab": {
          "base_uri": "https://localhost:8080/",
          "height": 444
        },
        "id": "4t1PwK3FIWP-",
        "outputId": "6a8b909e-c3c2-4721-93b3-6fcfd8a92c2c"
      },
      "outputs": [
        {
          "data": {
            "text/html": [
              "<div>\n",
              "<style scoped>\n",
              "    .dataframe tbody tr th:only-of-type {\n",
              "        vertical-align: middle;\n",
              "    }\n",
              "\n",
              "    .dataframe tbody tr th {\n",
              "        vertical-align: top;\n",
              "    }\n",
              "\n",
              "    .dataframe thead th {\n",
              "        text-align: right;\n",
              "    }\n",
              "</style>\n",
              "<table border=\"1\" class=\"dataframe\">\n",
              "  <thead>\n",
              "    <tr style=\"text-align: right;\">\n",
              "      <th></th>\n",
              "      <th>Textos_espanol</th>\n",
              "      <th>sdg</th>\n",
              "      <th>palabras</th>\n",
              "    </tr>\n",
              "  </thead>\n",
              "  <tbody>\n",
              "    <tr>\n",
              "      <th>0</th>\n",
              "      <td>Por ejemplo, el número de consultas externas d...</td>\n",
              "      <td>3</td>\n",
              "      <td>[Por, ejemplo, ,, el, número, de, consultas, e...</td>\n",
              "    </tr>\n",
              "    <tr>\n",
              "      <th>1</th>\n",
              "      <td>En 2007, el gobierno central financió directam...</td>\n",
              "      <td>3</td>\n",
              "      <td>[En, 2007, ,, el, gobierno, central, financió,...</td>\n",
              "    </tr>\n",
              "    <tr>\n",
              "      <th>2</th>\n",
              "      <td>Claramente, hay muchos otros factores en juego...</td>\n",
              "      <td>3</td>\n",
              "      <td>[Claramente, ,, hay, muchos, otros, factores, ...</td>\n",
              "    </tr>\n",
              "    <tr>\n",
              "      <th>3</th>\n",
              "      <td>Por ejemplo, el estado australiano de Victoria...</td>\n",
              "      <td>3</td>\n",
              "      <td>[Por, ejemplo, ,, el, estado, australiano, de,...</td>\n",
              "    </tr>\n",
              "    <tr>\n",
              "      <th>4</th>\n",
              "      <td>El consumo anual de alcohol se estima en 15,7 ...</td>\n",
              "      <td>3</td>\n",
              "      <td>[El, consumo, anual, de, alcohol, se, estima, ...</td>\n",
              "    </tr>\n",
              "    <tr>\n",
              "      <th>...</th>\n",
              "      <td>...</td>\n",
              "      <td>...</td>\n",
              "      <td>...</td>\n",
              "    </tr>\n",
              "    <tr>\n",
              "      <th>4044</th>\n",
              "      <td>Para ello, identificará las cuestiones de géne...</td>\n",
              "      <td>5</td>\n",
              "      <td>[Para, ello, ,, identificará, las, cuestiones,...</td>\n",
              "    </tr>\n",
              "    <tr>\n",
              "      <th>4045</th>\n",
              "      <td>La participación de las mujeres en roles de li...</td>\n",
              "      <td>5</td>\n",
              "      <td>[La, participación, de, las, mujeres, en, role...</td>\n",
              "    </tr>\n",
              "    <tr>\n",
              "      <th>4046</th>\n",
              "      <td>Según el WEF, según las tendencias de 2016, po...</td>\n",
              "      <td>5</td>\n",
              "      <td>[Según, el, WEF, ,, según, las, tendencias, de...</td>\n",
              "    </tr>\n",
              "    <tr>\n",
              "      <th>4047</th>\n",
              "      <td>Sirve como recurso y foro para las agencias, c...</td>\n",
              "      <td>5</td>\n",
              "      <td>[Sirve, como, recurso, y, foro, para, las, age...</td>\n",
              "    </tr>\n",
              "    <tr>\n",
              "      <th>4048</th>\n",
              "      <td>Las áreas útiles para un mayor estudio y acció...</td>\n",
              "      <td>5</td>\n",
              "      <td>[Las, áreas, útiles, para, un, mayor, estudio,...</td>\n",
              "    </tr>\n",
              "  </tbody>\n",
              "</table>\n",
              "<p>4049 rows × 3 columns</p>\n",
              "</div>"
            ],
            "text/plain": [
              "                                         Textos_espanol  sdg  \\\n",
              "0     Por ejemplo, el número de consultas externas d...    3   \n",
              "1     En 2007, el gobierno central financió directam...    3   \n",
              "2     Claramente, hay muchos otros factores en juego...    3   \n",
              "3     Por ejemplo, el estado australiano de Victoria...    3   \n",
              "4     El consumo anual de alcohol se estima en 15,7 ...    3   \n",
              "...                                                 ...  ...   \n",
              "4044  Para ello, identificará las cuestiones de géne...    5   \n",
              "4045  La participación de las mujeres en roles de li...    5   \n",
              "4046  Según el WEF, según las tendencias de 2016, po...    5   \n",
              "4047  Sirve como recurso y foro para las agencias, c...    5   \n",
              "4048  Las áreas útiles para un mayor estudio y acció...    5   \n",
              "\n",
              "                                               palabras  \n",
              "0     [Por, ejemplo, ,, el, número, de, consultas, e...  \n",
              "1     [En, 2007, ,, el, gobierno, central, financió,...  \n",
              "2     [Claramente, ,, hay, muchos, otros, factores, ...  \n",
              "3     [Por, ejemplo, ,, el, estado, australiano, de,...  \n",
              "4     [El, consumo, anual, de, alcohol, se, estima, ...  \n",
              "...                                                 ...  \n",
              "4044  [Para, ello, ,, identificará, las, cuestiones,...  \n",
              "4045  [La, participación, de, las, mujeres, en, role...  \n",
              "4046  [Según, el, WEF, ,, según, las, tendencias, de...  \n",
              "4047  [Sirve, como, recurso, y, foro, para, las, age...  \n",
              "4048  [Las, áreas, útiles, para, un, mayor, estudio,...  \n",
              "\n",
              "[4049 rows x 3 columns]"
            ]
          },
          "execution_count": 224,
          "metadata": {},
          "output_type": "execute_result"
        }
      ],
      "source": [
        "raw_data['palabras'] = raw_data['Textos_espanol'].apply(word_tokenize)\n",
        "raw_data"
      ]
    },
    {
      "cell_type": "markdown",
      "metadata": {
        "id": "rGqMsSCyISki"
      },
      "source": [
        "### 1.3) Tokenización\n",
        "Para el procesamiento del lenguaje natural, las palabras se dividen de forma que los modelos puedan analizarlas de manera individual facilmente. Estas se almacenan en una columna adicional para no alterar los datos originales del archivo."
      ]
    },
    {
      "cell_type": "code",
      "execution_count": 225,
      "metadata": {
        "colab": {
          "base_uri": "https://localhost:8080/",
          "height": 513
        },
        "id": "8F4hbaGxIkaK",
        "outputId": "38872719-b7bf-4d60-bcf7-049bbbbd0f56"
      },
      "outputs": [
        {
          "data": {
            "text/html": [
              "<div>\n",
              "<style scoped>\n",
              "    .dataframe tbody tr th:only-of-type {\n",
              "        vertical-align: middle;\n",
              "    }\n",
              "\n",
              "    .dataframe tbody tr th {\n",
              "        vertical-align: top;\n",
              "    }\n",
              "\n",
              "    .dataframe thead th {\n",
              "        text-align: right;\n",
              "    }\n",
              "</style>\n",
              "<table border=\"1\" class=\"dataframe\">\n",
              "  <thead>\n",
              "    <tr style=\"text-align: right;\">\n",
              "      <th></th>\n",
              "      <th>Textos_espanol</th>\n",
              "      <th>sdg</th>\n",
              "      <th>palabras</th>\n",
              "      <th>tokens</th>\n",
              "    </tr>\n",
              "  </thead>\n",
              "  <tbody>\n",
              "    <tr>\n",
              "      <th>0</th>\n",
              "      <td>Por ejemplo, el número de consultas externas d...</td>\n",
              "      <td>3</td>\n",
              "      <td>[Por, ejemplo, ,, el, número, de, consultas, e...</td>\n",
              "      <td>[ejemplo, número, consultas, externas, especia...</td>\n",
              "    </tr>\n",
              "    <tr>\n",
              "      <th>1</th>\n",
              "      <td>En 2007, el gobierno central financió directam...</td>\n",
              "      <td>3</td>\n",
              "      <td>[En, 2007, ,, el, gobierno, central, financió,...</td>\n",
              "      <td>[2007, gobierno, central, financió, directamen...</td>\n",
              "    </tr>\n",
              "    <tr>\n",
              "      <th>2</th>\n",
              "      <td>Claramente, hay muchos otros factores en juego...</td>\n",
              "      <td>3</td>\n",
              "      <td>[Claramente, ,, hay, muchos, otros, factores, ...</td>\n",
              "      <td>[claramente, factores, juego, particular, vari...</td>\n",
              "    </tr>\n",
              "    <tr>\n",
              "      <th>3</th>\n",
              "      <td>Por ejemplo, el estado australiano de Victoria...</td>\n",
              "      <td>3</td>\n",
              "      <td>[Por, ejemplo, ,, el, estado, australiano, de,...</td>\n",
              "      <td>[ejemplo, australiano, victoria, creó, agencia...</td>\n",
              "    </tr>\n",
              "    <tr>\n",
              "      <th>4</th>\n",
              "      <td>El consumo anual de alcohol se estima en 15,7 ...</td>\n",
              "      <td>3</td>\n",
              "      <td>[El, consumo, anual, de, alcohol, se, estima, ...</td>\n",
              "      <td>[consumo, anual, alcohol, estima, 157, litros,...</td>\n",
              "    </tr>\n",
              "    <tr>\n",
              "      <th>...</th>\n",
              "      <td>...</td>\n",
              "      <td>...</td>\n",
              "      <td>...</td>\n",
              "      <td>...</td>\n",
              "    </tr>\n",
              "    <tr>\n",
              "      <th>4044</th>\n",
              "      <td>Para ello, identificará las cuestiones de géne...</td>\n",
              "      <td>5</td>\n",
              "      <td>[Para, ello, ,, identificará, las, cuestiones,...</td>\n",
              "      <td>[ello, identificará, cuestiones, género, desta...</td>\n",
              "    </tr>\n",
              "    <tr>\n",
              "      <th>4045</th>\n",
              "      <td>La participación de las mujeres en roles de li...</td>\n",
              "      <td>5</td>\n",
              "      <td>[La, participación, de, las, mujeres, en, role...</td>\n",
              "      <td>[participación, mujeres, roles, liderazgo, den...</td>\n",
              "    </tr>\n",
              "    <tr>\n",
              "      <th>4046</th>\n",
              "      <td>Según el WEF, según las tendencias de 2016, po...</td>\n",
              "      <td>5</td>\n",
              "      <td>[Según, el, WEF, ,, según, las, tendencias, de...</td>\n",
              "      <td>[según, wef, según, tendencias, 2016, podría, ...</td>\n",
              "    </tr>\n",
              "    <tr>\n",
              "      <th>4047</th>\n",
              "      <td>Sirve como recurso y foro para las agencias, c...</td>\n",
              "      <td>5</td>\n",
              "      <td>[Sirve, como, recurso, y, foro, para, las, age...</td>\n",
              "      <td>[sirve, recurso, foro, agencias, objetivo, log...</td>\n",
              "    </tr>\n",
              "    <tr>\n",
              "      <th>4048</th>\n",
              "      <td>Las áreas útiles para un mayor estudio y acció...</td>\n",
              "      <td>5</td>\n",
              "      <td>[Las, áreas, útiles, para, un, mayor, estudio,...</td>\n",
              "      <td>[áreas, útiles, mayor, estudio, acción, políti...</td>\n",
              "    </tr>\n",
              "  </tbody>\n",
              "</table>\n",
              "<p>4049 rows × 4 columns</p>\n",
              "</div>"
            ],
            "text/plain": [
              "                                         Textos_espanol  sdg  \\\n",
              "0     Por ejemplo, el número de consultas externas d...    3   \n",
              "1     En 2007, el gobierno central financió directam...    3   \n",
              "2     Claramente, hay muchos otros factores en juego...    3   \n",
              "3     Por ejemplo, el estado australiano de Victoria...    3   \n",
              "4     El consumo anual de alcohol se estima en 15,7 ...    3   \n",
              "...                                                 ...  ...   \n",
              "4044  Para ello, identificará las cuestiones de géne...    5   \n",
              "4045  La participación de las mujeres en roles de li...    5   \n",
              "4046  Según el WEF, según las tendencias de 2016, po...    5   \n",
              "4047  Sirve como recurso y foro para las agencias, c...    5   \n",
              "4048  Las áreas útiles para un mayor estudio y acció...    5   \n",
              "\n",
              "                                               palabras  \\\n",
              "0     [Por, ejemplo, ,, el, número, de, consultas, e...   \n",
              "1     [En, 2007, ,, el, gobierno, central, financió,...   \n",
              "2     [Claramente, ,, hay, muchos, otros, factores, ...   \n",
              "3     [Por, ejemplo, ,, el, estado, australiano, de,...   \n",
              "4     [El, consumo, anual, de, alcohol, se, estima, ...   \n",
              "...                                                 ...   \n",
              "4044  [Para, ello, ,, identificará, las, cuestiones,...   \n",
              "4045  [La, participación, de, las, mujeres, en, role...   \n",
              "4046  [Según, el, WEF, ,, según, las, tendencias, de...   \n",
              "4047  [Sirve, como, recurso, y, foro, para, las, age...   \n",
              "4048  [Las, áreas, útiles, para, un, mayor, estudio,...   \n",
              "\n",
              "                                                 tokens  \n",
              "0     [ejemplo, número, consultas, externas, especia...  \n",
              "1     [2007, gobierno, central, financió, directamen...  \n",
              "2     [claramente, factores, juego, particular, vari...  \n",
              "3     [ejemplo, australiano, victoria, creó, agencia...  \n",
              "4     [consumo, anual, alcohol, estima, 157, litros,...  \n",
              "...                                                 ...  \n",
              "4044  [ello, identificará, cuestiones, género, desta...  \n",
              "4045  [participación, mujeres, roles, liderazgo, den...  \n",
              "4046  [según, wef, según, tendencias, 2016, podría, ...  \n",
              "4047  [sirve, recurso, foro, agencias, objetivo, log...  \n",
              "4048  [áreas, útiles, mayor, estudio, acción, políti...  \n",
              "\n",
              "[4049 rows x 4 columns]"
            ]
          },
          "execution_count": 225,
          "metadata": {},
          "output_type": "execute_result"
        }
      ],
      "source": [
        "raw_data['tokens']=raw_data['palabras'].apply(preprocessing)\n",
        "raw_data"
      ]
    },
    {
      "cell_type": "markdown",
      "metadata": {
        "id": "UG-kcOQeImuY"
      },
      "source": [
        "### 1.4) Normalización\n",
        " Para la normalización de los tokens, se utilizará la técnica de 'stemming', la cual permite reducir las palabras a su raíz, eliminando los elementos adicionales como los sufijos y prefijos. Esto permite que varias palabras que se utilizan para referirse al mismo concepto (como, por ejemplo, distintas conjugaciones de un verbo) puedan ser entendidas por el modelo como un solo token."
      ]
    },
    {
      "cell_type": "code",
      "execution_count": 226,
      "metadata": {
        "colab": {
          "base_uri": "https://localhost:8080/",
          "height": 618
        },
        "id": "Gb5AhI6QIodN",
        "outputId": "a64e8ee7-2fe6-45e3-b9e3-42f252191b3f"
      },
      "outputs": [
        {
          "data": {
            "text/html": [
              "<div>\n",
              "<style scoped>\n",
              "    .dataframe tbody tr th:only-of-type {\n",
              "        vertical-align: middle;\n",
              "    }\n",
              "\n",
              "    .dataframe tbody tr th {\n",
              "        vertical-align: top;\n",
              "    }\n",
              "\n",
              "    .dataframe thead th {\n",
              "        text-align: right;\n",
              "    }\n",
              "</style>\n",
              "<table border=\"1\" class=\"dataframe\">\n",
              "  <thead>\n",
              "    <tr style=\"text-align: right;\">\n",
              "      <th></th>\n",
              "      <th>Textos_espanol</th>\n",
              "      <th>sdg</th>\n",
              "      <th>palabras</th>\n",
              "      <th>tokens</th>\n",
              "      <th>tokens_normalizados</th>\n",
              "    </tr>\n",
              "  </thead>\n",
              "  <tbody>\n",
              "    <tr>\n",
              "      <th>0</th>\n",
              "      <td>Por ejemplo, el número de consultas externas d...</td>\n",
              "      <td>3</td>\n",
              "      <td>[Por, ejemplo, ,, el, número, de, consultas, e...</td>\n",
              "      <td>[ejemplo, número, consultas, externas, especia...</td>\n",
              "      <td>[ejempl, numer, consult, extern, especial, 319...</td>\n",
              "    </tr>\n",
              "    <tr>\n",
              "      <th>1</th>\n",
              "      <td>En 2007, el gobierno central financió directam...</td>\n",
              "      <td>3</td>\n",
              "      <td>[En, 2007, ,, el, gobierno, central, financió,...</td>\n",
              "      <td>[2007, gobierno, central, financió, directamen...</td>\n",
              "      <td>[2007, gobiern, central, financ, direct, sol, ...</td>\n",
              "    </tr>\n",
              "    <tr>\n",
              "      <th>2</th>\n",
              "      <td>Claramente, hay muchos otros factores en juego...</td>\n",
              "      <td>3</td>\n",
              "      <td>[Claramente, ,, hay, muchos, otros, factores, ...</td>\n",
              "      <td>[claramente, factores, juego, particular, vari...</td>\n",
              "      <td>[clar, factor, jueg, particul, varied, barrer,...</td>\n",
              "    </tr>\n",
              "    <tr>\n",
              "      <th>3</th>\n",
              "      <td>Por ejemplo, el estado australiano de Victoria...</td>\n",
              "      <td>3</td>\n",
              "      <td>[Por, ejemplo, ,, el, estado, australiano, de,...</td>\n",
              "      <td>[ejemplo, australiano, victoria, creó, agencia...</td>\n",
              "      <td>[ejempl, australian, victori, cre, agenci, pro...</td>\n",
              "    </tr>\n",
              "    <tr>\n",
              "      <th>4</th>\n",
              "      <td>El consumo anual de alcohol se estima en 15,7 ...</td>\n",
              "      <td>3</td>\n",
              "      <td>[El, consumo, anual, de, alcohol, se, estima, ...</td>\n",
              "      <td>[consumo, anual, alcohol, estima, 157, litros,...</td>\n",
              "      <td>[consum, anual, alcohol, estim, 157, litr, año...</td>\n",
              "    </tr>\n",
              "    <tr>\n",
              "      <th>...</th>\n",
              "      <td>...</td>\n",
              "      <td>...</td>\n",
              "      <td>...</td>\n",
              "      <td>...</td>\n",
              "      <td>...</td>\n",
              "    </tr>\n",
              "    <tr>\n",
              "      <th>4044</th>\n",
              "      <td>Para ello, identificará las cuestiones de géne...</td>\n",
              "      <td>5</td>\n",
              "      <td>[Para, ello, ,, identificará, las, cuestiones,...</td>\n",
              "      <td>[ello, identificará, cuestiones, género, desta...</td>\n",
              "      <td>[ello, identific, cuestion, gener, destac, mal...</td>\n",
              "    </tr>\n",
              "    <tr>\n",
              "      <th>4045</th>\n",
              "      <td>La participación de las mujeres en roles de li...</td>\n",
              "      <td>5</td>\n",
              "      <td>[La, participación, de, las, mujeres, en, role...</td>\n",
              "      <td>[participación, mujeres, roles, liderazgo, den...</td>\n",
              "      <td>[particip, mujer, rol, liderazg, dentr, legisl...</td>\n",
              "    </tr>\n",
              "    <tr>\n",
              "      <th>4046</th>\n",
              "      <td>Según el WEF, según las tendencias de 2016, po...</td>\n",
              "      <td>5</td>\n",
              "      <td>[Según, el, WEF, ,, según, las, tendencias, de...</td>\n",
              "      <td>[según, wef, según, tendencias, 2016, podría, ...</td>\n",
              "      <td>[segun, wef, segun, tendenci, 2016, podr, cerr...</td>\n",
              "    </tr>\n",
              "    <tr>\n",
              "      <th>4047</th>\n",
              "      <td>Sirve como recurso y foro para las agencias, c...</td>\n",
              "      <td>5</td>\n",
              "      <td>[Sirve, como, recurso, y, foro, para, las, age...</td>\n",
              "      <td>[sirve, recurso, foro, agencias, objetivo, log...</td>\n",
              "      <td>[sirv, recurs, for, agenci, objet, logr, enfoq...</td>\n",
              "    </tr>\n",
              "    <tr>\n",
              "      <th>4048</th>\n",
              "      <td>Las áreas útiles para un mayor estudio y acció...</td>\n",
              "      <td>5</td>\n",
              "      <td>[Las, áreas, útiles, para, un, mayor, estudio,...</td>\n",
              "      <td>[áreas, útiles, mayor, estudio, acción, políti...</td>\n",
              "      <td>[are, util, mayor, estudi, accion, polit, incl...</td>\n",
              "    </tr>\n",
              "  </tbody>\n",
              "</table>\n",
              "<p>4049 rows × 5 columns</p>\n",
              "</div>"
            ],
            "text/plain": [
              "                                         Textos_espanol  sdg  \\\n",
              "0     Por ejemplo, el número de consultas externas d...    3   \n",
              "1     En 2007, el gobierno central financió directam...    3   \n",
              "2     Claramente, hay muchos otros factores en juego...    3   \n",
              "3     Por ejemplo, el estado australiano de Victoria...    3   \n",
              "4     El consumo anual de alcohol se estima en 15,7 ...    3   \n",
              "...                                                 ...  ...   \n",
              "4044  Para ello, identificará las cuestiones de géne...    5   \n",
              "4045  La participación de las mujeres en roles de li...    5   \n",
              "4046  Según el WEF, según las tendencias de 2016, po...    5   \n",
              "4047  Sirve como recurso y foro para las agencias, c...    5   \n",
              "4048  Las áreas útiles para un mayor estudio y acció...    5   \n",
              "\n",
              "                                               palabras  \\\n",
              "0     [Por, ejemplo, ,, el, número, de, consultas, e...   \n",
              "1     [En, 2007, ,, el, gobierno, central, financió,...   \n",
              "2     [Claramente, ,, hay, muchos, otros, factores, ...   \n",
              "3     [Por, ejemplo, ,, el, estado, australiano, de,...   \n",
              "4     [El, consumo, anual, de, alcohol, se, estima, ...   \n",
              "...                                                 ...   \n",
              "4044  [Para, ello, ,, identificará, las, cuestiones,...   \n",
              "4045  [La, participación, de, las, mujeres, en, role...   \n",
              "4046  [Según, el, WEF, ,, según, las, tendencias, de...   \n",
              "4047  [Sirve, como, recurso, y, foro, para, las, age...   \n",
              "4048  [Las, áreas, útiles, para, un, mayor, estudio,...   \n",
              "\n",
              "                                                 tokens  \\\n",
              "0     [ejemplo, número, consultas, externas, especia...   \n",
              "1     [2007, gobierno, central, financió, directamen...   \n",
              "2     [claramente, factores, juego, particular, vari...   \n",
              "3     [ejemplo, australiano, victoria, creó, agencia...   \n",
              "4     [consumo, anual, alcohol, estima, 157, litros,...   \n",
              "...                                                 ...   \n",
              "4044  [ello, identificará, cuestiones, género, desta...   \n",
              "4045  [participación, mujeres, roles, liderazgo, den...   \n",
              "4046  [según, wef, según, tendencias, 2016, podría, ...   \n",
              "4047  [sirve, recurso, foro, agencias, objetivo, log...   \n",
              "4048  [áreas, útiles, mayor, estudio, acción, políti...   \n",
              "\n",
              "                                    tokens_normalizados  \n",
              "0     [ejempl, numer, consult, extern, especial, 319...  \n",
              "1     [2007, gobiern, central, financ, direct, sol, ...  \n",
              "2     [clar, factor, jueg, particul, varied, barrer,...  \n",
              "3     [ejempl, australian, victori, cre, agenci, pro...  \n",
              "4     [consum, anual, alcohol, estim, 157, litr, año...  \n",
              "...                                                 ...  \n",
              "4044  [ello, identific, cuestion, gener, destac, mal...  \n",
              "4045  [particip, mujer, rol, liderazg, dentr, legisl...  \n",
              "4046  [segun, wef, segun, tendenci, 2016, podr, cerr...  \n",
              "4047  [sirv, recurs, for, agenci, objet, logr, enfoq...  \n",
              "4048  [are, util, mayor, estudi, accion, polit, incl...  \n",
              "\n",
              "[4049 rows x 5 columns]"
            ]
          },
          "execution_count": 226,
          "metadata": {},
          "output_type": "execute_result"
        }
      ],
      "source": [
        "def stem_words(tokens):\n",
        "  spanishstemmer=SnowballStemmer('spanish')\n",
        "  stems = [spanishstemmer.stem(token) for token in tokens]\n",
        "  return stems\n",
        "\n",
        "raw_data['tokens_normalizados'] = raw_data['tokens'].apply(stem_words)\n",
        "raw_data"
      ]
    },
    {
      "cell_type": "markdown",
      "metadata": {},
      "source": [
        "## Ejecución de Modelos\n",
        "\n",
        "### Primer Modelo Propuesto: KNN\n",
        "[K-Nearest Neighbors](https://scikit-learn.org/stable/modules/generated/sklearn.ensemble.RandomForestClassifier.html)"
      ]
    },
    {
      "cell_type": "code",
      "execution_count": 227,
      "metadata": {},
      "outputs": [],
      "source": [
        "knn_data = raw_data.copy()\n",
        "knn_data['tokens_normalizados'] = knn_data['tokens_normalizados'].apply(lambda x: ' '.join(map(str, x)))\n",
        "\n",
        "X = knn_data['tokens_normalizados']\n",
        "Y = knn_data['sdg']\n",
        "\n",
        "count = CountVectorizer()\n",
        "X = count.fit_transform(X)\n",
        "X_train, X_test, Y_train, Y_test = train_test_split(X, Y, test_size=0.2, random_state=0)"
      ]
    },
    {
      "cell_type": "code",
      "execution_count": 228,
      "metadata": {},
      "outputs": [
        {
          "name": "stdout",
          "output_type": "stream",
          "text": [
            "              precision    recall  f1-score   support\n",
            "\n",
            "           3       0.96      0.94      0.95       269\n",
            "           4       0.90      0.97      0.93       266\n",
            "           5       0.97      0.92      0.94       275\n",
            "\n",
            "    accuracy                           0.94       810\n",
            "   macro avg       0.94      0.94      0.94       810\n",
            "weighted avg       0.94      0.94      0.94       810\n",
            "\n"
          ]
        }
      ],
      "source": [
        "k = 15\n",
        "neigh = KNeighborsClassifier(n_neighbors=k)\n",
        "neigh = neigh.fit(X_train, Y_train)\n",
        "y_pred = neigh.predict(X_test)\n",
        "\n",
        "print(classification_report(Y_test, y_pred))"
      ]
    },
    {
      "cell_type": "markdown",
      "metadata": {},
      "source": [
        "### Segundo Modelo Propuesto: Random Forest\n",
        "\n",
        "[Random Forest](https://scikit-learn.org/stable/modules/generated/sklearn.ensemble.RandomForestClassifier.html)"
      ]
    },
    {
      "cell_type": "code",
      "execution_count": 229,
      "metadata": {},
      "outputs": [],
      "source": [
        "rf_data = raw_data.copy()\n",
        "rf_data['tokens_normalizados'] = rf_data['tokens_normalizados'].apply(lambda x: ' '.join(map(str, x)))\n",
        "\n",
        "X = rf_data['tokens_normalizados']\n",
        "Y = rf_data['sdg']\n",
        "\n",
        "count = CountVectorizer()\n",
        "X = count.fit_transform(X)\n",
        "X_train, X_test, Y_train, Y_test = train_test_split(X, Y, test_size=0.2, random_state=0)"
      ]
    },
    {
      "cell_type": "code",
      "execution_count": 230,
      "metadata": {},
      "outputs": [
        {
          "name": "stdout",
          "output_type": "stream",
          "text": [
            "              precision    recall  f1-score   support\n",
            "\n",
            "           3       0.98      0.98      0.98       269\n",
            "           4       0.96      0.97      0.96       266\n",
            "           5       0.97      0.96      0.97       275\n",
            "\n",
            "    accuracy                           0.97       810\n",
            "   macro avg       0.97      0.97      0.97       810\n",
            "weighted avg       0.97      0.97      0.97       810\n",
            "\n"
          ]
        }
      ],
      "source": [
        "trees = 50\n",
        "\n",
        "forest = RandomForestClassifier(n_estimators=trees)\n",
        "forest = forest.fit(X_train, Y_train)\n",
        "y_pred = forest.predict(X_test)\n",
        "print(classification_report(Y_test, y_pred))"
      ]
    },
    {
      "cell_type": "markdown",
      "metadata": {},
      "source": [
        "### Tercer Modelo Propuesto: MLP Classifier \n",
        "\n",
        "[MLP Classifier](https://scikit-learn.org/stable/modules/generated/sklearn.neural_network.MLPClassifier.html)"
      ]
    },
    {
      "cell_type": "code",
      "execution_count": 233,
      "metadata": {},
      "outputs": [],
      "source": [
        "mlp_data = raw_data.copy()\n",
        "mlp_data['tokens_normalizados'] = mlp_data['tokens_normalizados'].apply(lambda x: ' '.join(map(str, x)))\n",
        "\n",
        "X = mlp_data['tokens_normalizados']\n",
        "Y = mlp_data['sdg']\n",
        "\n",
        "count = CountVectorizer()\n",
        "X = count.fit_transform(X)\n",
        "X_train, X_test, Y_train, Y_test = train_test_split(X, Y, test_size=0.2, random_state=0)"
      ]
    },
    {
      "cell_type": "code",
      "execution_count": 234,
      "metadata": {},
      "outputs": [
        {
          "name": "stdout",
          "output_type": "stream",
          "text": [
            "              precision    recall  f1-score   support\n",
            "\n",
            "           3       0.98      0.98      0.98       269\n",
            "           4       0.96      0.97      0.96       266\n",
            "           5       0.97      0.96      0.97       275\n",
            "\n",
            "    accuracy                           0.97       810\n",
            "   macro avg       0.97      0.97      0.97       810\n",
            "weighted avg       0.97      0.97      0.97       810\n",
            "\n"
          ]
        }
      ],
      "source": [
        "MLP = MLPClassifier()\n",
        "MLP = MLP.fit(X_train, Y_train)\n",
        "y_pred = MLP.predict(X_test)\n",
        "print(classification_report(Y_test, y_pred))"
      ]
    }
  ],
  "metadata": {
    "colab": {
      "provenance": [],
      "toc_visible": true
    },
    "kernelspec": {
      "display_name": "Python 3",
      "name": "python3"
    },
    "language_info": {
      "codemirror_mode": {
        "name": "ipython",
        "version": 3
      },
      "file_extension": ".py",
      "mimetype": "text/x-python",
      "name": "python",
      "nbconvert_exporter": "python",
      "pygments_lexer": "ipython3",
      "version": "3.11.9"
    }
  },
  "nbformat": 4,
  "nbformat_minor": 0
}
